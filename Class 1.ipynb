{
 "cells": [
  {
   "cell_type": "code",
   "execution_count": 2,
   "id": "93abe287",
   "metadata": {},
   "outputs": [
    {
     "name": "stdout",
     "output_type": "stream",
     "text": [
      "h\n",
      "e\n",
      "l\n",
      "l\n",
      "o\n",
      "w\n",
      " \n",
      "w\n",
      "o\n",
      "r\n",
      "l\n",
      "d\n"
     ]
    }
   ],
   "source": [
    "for letter in \"hellow world\":\n",
    "    print(letter)"
   ]
  },
  {
   "attachments": {},
   "cell_type": "markdown",
   "id": "eecd94e3",
   "metadata": {},
   "source": [
    "# Problem 1\n",
    "\n",
    "### Given two strings(string_a and string_b)determine if these anagrams of each other.\n",
    "Your function , \"are_anamgrams\" must receive two strings and return True if these are anagrams of each other , False other wise\n",
    "\n",
    "_criteria_:\n",
    "Two strings are anagrams of each other if and only if:\n",
    "1. they are exactly the same length.\n",
    "2. they use the exact same characters, the same amount of times.\\\n",
    "\n",
    "Examples:\n",
    "```\n",
    "cars and scar\n",
    "heart and earth\n",
    "etc\n",
    "```\n",
    "\n",
    "```\n",
    "Tom Marvolo Riddle\n",
    "I am Lord Voldemort\n",
    "```"
   ]
  },
  {
   "cell_type": "code",
   "execution_count": null,
   "id": "eeb34bff",
   "metadata": {},
   "outputs": [],
   "source": [
    "def are_anagrams(string_a, string_b):\n",
    "    pass\n",
    "\n",
    "assert are_anagrams(\"cars\", \"scar\")== True\n",
    "assert are_anagrams(\"cars\", \"ccrs\")== "
   ]
  },
  {
   "cell_type": "code",
   "execution_count": null,
   "id": "db8eee12",
   "metadata": {},
   "outputs": [],
   "source": []
  }
 ],
 "metadata": {
  "kernelspec": {
   "display_name": "Python 3 (ipykernel)",
   "language": "python",
   "name": "python3"
  },
  "language_info": {
   "codemirror_mode": {
    "name": "ipython",
    "version": 3
   },
   "file_extension": ".py",
   "mimetype": "text/x-python",
   "name": "python",
   "nbconvert_exporter": "python",
   "pygments_lexer": "ipython3",
   "version": "3.10.6"
  }
 },
 "nbformat": 4,
 "nbformat_minor": 5
}
